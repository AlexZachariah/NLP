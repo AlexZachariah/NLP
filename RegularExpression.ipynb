{
 "cells": [
  {
   "cell_type": "code",
   "execution_count": 1,
   "metadata": {},
   "outputs": [],
   "source": [
    "import re"
   ]
  },
  {
   "cell_type": "markdown",
   "metadata": {},
   "source": [
    "### Phone Number"
   ]
  },
  {
   "cell_type": "code",
   "execution_count": 2,
   "metadata": {},
   "outputs": [
    {
     "data": {
      "text/plain": [
       "'8714135828'"
      ]
     },
     "execution_count": 2,
     "metadata": {},
     "output_type": "execute_result"
    }
   ],
   "source": [
    "chatbot=\"Please share your email id and phone number?\"\n",
    "user=\"Here you go : my mail id is arunvignesh377@gmail.com and my phone number is 8714135828 also find my alternative number (701)-275-3692.\"\n",
    "\n",
    "pattern=\"\\d{10}\"\n",
    "matches=re.findall(pattern,user)\n",
    "matches[0]\n"
   ]
  },
  {
   "cell_type": "code",
   "execution_count": 3,
   "metadata": {},
   "outputs": [
    {
     "data": {
      "text/plain": [
       "'(701)-275-3692'"
      ]
     },
     "execution_count": 3,
     "metadata": {},
     "output_type": "execute_result"
    }
   ],
   "source": [
    "chatbot=\"Please share your email id and phone number?\"\n",
    "user=\"Here you go : my mail id is arunvignesh377@gmail.com and my phone number is 8714135828 also find my alternative number (701)-275-3692.\"\n",
    "\n",
    "pattern=\"\\(\\d{3}\\)\\-\\d{3}\\-\\d{4}\"\n",
    "matches=re.findall(pattern,user)\n",
    "matches[0]\n"
   ]
  },
  {
   "cell_type": "code",
   "execution_count": 4,
   "metadata": {},
   "outputs": [
    {
     "data": {
      "text/plain": [
       "['8714135828', '(701)-275-3692', '9187141358', '8714135828']"
      ]
     },
     "execution_count": 4,
     "metadata": {},
     "output_type": "execute_result"
    }
   ],
   "source": [
    "chatbot=\"Please share your email id and phone number?\"\n",
    "user=\"Here you go : my mail id is arunvignesh377@gmail.com and my phone number is 8714135828 also find my alternative number (701)-275-3692,+918714135828,+91-8714135828\"\n",
    "\n",
    "pattern=\"\\(\\d{3}\\)\\-\\d{3}\\-\\d{4}|\\d{10}\"\n",
    "matches=re.findall(pattern,user)\n",
    "matches\n"
   ]
  },
  {
   "cell_type": "code",
   "execution_count": 5,
   "metadata": {},
   "outputs": [
    {
     "data": {
      "text/plain": [
       "['8714135828', '(701)-275-3692', '+918714135828', '8714135828']"
      ]
     },
     "execution_count": 5,
     "metadata": {},
     "output_type": "execute_result"
    }
   ],
   "source": [
    "chatbot=\"Please share your email id and phone number?\"\n",
    "user=\"Here you go : my mail id is arunvignesh377@gmail.com and my phone number is 8714135828 also find my alternative number (701)-275-3692,+918714135828,+91-8714135828\"\n",
    "\n",
    "pattern=\"\\(\\d{3}\\)\\-\\d{3}\\-\\d{4}|\\d{10}|\\d{10}|\\+\\d{12}|\\+\\d{2}\\-\\d{10}\\(\\d{3}\\|\\-\\d{3}\\-\\d{4}|\\d{10}\"\n",
    "matches=re.findall(pattern,user)\n",
    "matches\n"
   ]
  },
  {
   "cell_type": "markdown",
   "metadata": {},
   "source": [
    "### Email id"
   ]
  },
  {
   "cell_type": "code",
   "execution_count": 6,
   "metadata": {},
   "outputs": [
    {
     "data": {
      "text/plain": [
       "['arunvignesh377@gmail.com']"
      ]
     },
     "execution_count": 6,
     "metadata": {},
     "output_type": "execute_result"
    }
   ],
   "source": [
    "chatbot=\"Please share your email id and phone number?\"\n",
    "user=\"Here you go : my mail id is arunvignesh377@gmail.com and my phone number is 8714135828 also find my alternative number (701)-275-3692,+918714135828,+91-8714135828\"\n",
    "\n",
    "pattern=\"[a-zA-Z0-9]*\\@[a-z]*\\.[a-zA-Z0-9]*\"\n",
    "matches=re.findall(pattern,user)\n",
    "matches\n"
   ]
  },
  {
   "cell_type": "code",
   "execution_count": 7,
   "metadata": {},
   "outputs": [
    {
     "data": {
      "text/plain": [
       "['arunvignesh377@gmail.com', 'arun_vignesh001_@hotmail.com']"
      ]
     },
     "execution_count": 7,
     "metadata": {},
     "output_type": "execute_result"
    }
   ],
   "source": [
    "chatbot=\"Please share your email id and phone number?\"\n",
    "user=\"Here you go : my mail id is arunvignesh377@gmail.com,arun_vignesh001_@hotmail.com and my phone number is 8714135828 also find my alternative number (701)-275-3692,+918714135828,+91-8714135828\"\n",
    "\n",
    "pattern=\"[a-zA-Z0-9]*\\@[a-z]*\\.[a-zA-Z0-9]*|[a-zA-Z0-9_]*\\@[a-z]*\\.[a-zA-Z0-9]*\"\n",
    "matches=re.findall(pattern,user)\n",
    "matches\n"
   ]
  },
  {
   "cell_type": "code",
   "execution_count": 8,
   "metadata": {},
   "outputs": [
    {
     "data": {
      "text/plain": [
       "[('arunvignesh377', ''), ('', 'arun_vignesh001_')]"
      ]
     },
     "execution_count": 8,
     "metadata": {},
     "output_type": "execute_result"
    }
   ],
   "source": [
    "chatbot=\"Please share your email id and phone number?\"\n",
    "user=\"Here you go : my mail id is arunvignesh377@gmail.com,arun_vignesh001_@hotmail.com and my phone number is 8714135828 also find my alternative number (701)-275-3692,+918714135828,+91-8714135828\"\n",
    "\n",
    "pattern=\"([a-zA-Z0-9]*)\\@[a-z]*\\.[a-zA-Z0-9]*|([a-zA-Z0-9_]*)\\@[a-z]*\\.[a-zA-Z0-9]*\"\n",
    "matches=re.findall(pattern,user)\n",
    "matches\n"
   ]
  },
  {
   "cell_type": "code",
   "execution_count": 9,
   "metadata": {},
   "outputs": [],
   "source": [
    "text = '''\n",
    "Tesla's gross cost of operating lease vehicles in FY2021 Q1 was $4.85 billion. \n",
    "In previous quarter i.e. FY2020 Q4 it was $3 billion.\n",
    "'''"
   ]
  },
  {
   "cell_type": "code",
   "execution_count": 10,
   "metadata": {},
   "outputs": [
    {
     "data": {
      "text/plain": [
       "[('2021 Q1', '$4.85'), ('2020 Q4', '$3')]"
      ]
     },
     "execution_count": 10,
     "metadata": {},
     "output_type": "execute_result"
    }
   ],
   "source": [
    "pattern=\"FY(\\d{4} Q[1-4]) [^\\$]+ (\\$[0-9\\.]+)\"\n",
    "matches=re.findall(pattern,text)\n",
    "matches\n"
   ]
  },
  {
   "cell_type": "code",
   "execution_count": 11,
   "metadata": {},
   "outputs": [
    {
     "name": "stdout",
     "output_type": "stream",
     "text": [
      "Collecting PyMuPDF\n",
      "  Downloading PyMuPDF-1.20.2-cp38-cp38-win_amd64.whl (6.6 MB)\n",
      "     ---------------------------------------- 6.6/6.6 MB 4.5 MB/s eta 0:00:00\n",
      "Installing collected packages: PyMuPDF\n",
      "Successfully installed PyMuPDF-1.20.2\n",
      "Note: you may need to restart the kernel to use updated packages.\n"
     ]
    }
   ],
   "source": [
    "#pip install PyMuPDF"
   ]
  },
  {
   "cell_type": "code",
   "execution_count": null,
   "metadata": {},
   "outputs": [],
   "source": [
    "import fitz \n",
    "with fitz.open('') as doc:\n",
    "    text=''\n",
    "    for page in doc:\n",
    "        text += page.get_text()\n",
    "print(text)        "
   ]
  }
 ],
 "metadata": {
  "kernelspec": {
   "display_name": "Python 3.8.13 ('NLP')",
   "language": "python",
   "name": "python3"
  },
  "language_info": {
   "codemirror_mode": {
    "name": "ipython",
    "version": 3
   },
   "file_extension": ".py",
   "mimetype": "text/x-python",
   "name": "python",
   "nbconvert_exporter": "python",
   "pygments_lexer": "ipython3",
   "version": "3.8.13"
  },
  "orig_nbformat": 4,
  "vscode": {
   "interpreter": {
    "hash": "2cf9a3fbfd367f2db52648169bbe2e077e749a5ca2985deb7ebfc7646500c7ad"
   }
  }
 },
 "nbformat": 4,
 "nbformat_minor": 2
}
